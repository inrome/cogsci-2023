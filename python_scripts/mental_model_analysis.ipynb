{
 "cells": [
  {
   "cell_type": "code",
   "execution_count": 31,
   "metadata": {
    "collapsed": true,
    "pycharm": {
     "name": "#%%\n"
    }
   },
   "outputs": [],
   "source": [
    "import numpy as np\n",
    "import pandas as pd\n",
    "import pickle\n",
    "import math"
   ]
  },
  {
   "cell_type": "code",
   "execution_count": 32,
   "outputs": [],
   "source": [
    "participants = pd.read_csv('../data_clean/2023-01-28_participants_clean_an-exp1_n-91.csv', sep = \",\")\n",
    "transitions = pd.read_csv(\"../data_clean/2023-01-28_transitions_clean_an-exp1_n-91.csv\", sep = \",\")\n",
    "trials_learning = pd.read_csv('../data_clean/2023-01-28_learning_clean_an-exp1_n-91.csv', sep = \",\")\n",
    "trials_prediction = pd.read_csv('../data_clean/2023-01-28_test_prediction_clean_an-exp1_n-91.csv', sep = \",\")\n",
    "trials_control = pd.read_csv('../data_clean/2023-01-28_test_control_clean_an-exp1_n-91.csv', sep = \",\")\n",
    "trials_explanation = pd.read_csv('../data_clean/2023-01-28_test_explanation_clean_an-exp1_n-91.csv', sep = \",\")"
   ],
   "metadata": {
    "collapsed": false,
    "pycharm": {
     "name": "#%%\n"
    }
   }
  },
  {
   "cell_type": "code",
   "execution_count": 33,
   "outputs": [],
   "source": [
    "# Define functions for hidden cases\n",
    "\n",
    "def predict_normative(start_state, first_input, second_input, fsm_temp):\n",
    "    \"\"\"Return an array with probabilities of each final state\"\"\"\n",
    "    states = [0, 1, 2, 3]\n",
    "    return np.array(\n",
    "        [np.array([fsm_temp[start_state][first_input][middle_state] * fsm_temp[middle_state][second_input][final_state]\n",
    "                   for middle_state in states]).sum()\n",
    "         for final_state in states],\n",
    "        dtype=[(str(start_state) + \"—\" + first_input + \"–[All paths]–\" + second_input + \"–?\", \"float16\")])\n",
    "\n",
    "def predict_an(start_state, first_input, second_input, fsm_temp):\n",
    "    states = [0, 1, 2, 3]\n",
    "    max_middle_state = np.array([fsm_temp[start_state][first_input]]).argmax()\n",
    "    ans = np.array([np.array([fsm_temp[middle_state][second_input][final_state]\n",
    "                              for middle_state in [max_middle_state]]).sum()\n",
    "                    for final_state in states])\n",
    "    return np.array(ans / ans.sum(),\n",
    "                    dtype=[(str(start_state) + \"—\" + first_input + \"–[ML path]–\" + second_input + \"–?\", \"float16\")])\n",
    "\n",
    "def control_normative(start_state, final_state, fsm_temp):\n",
    "    \"\"\" Calculate probabilities of each possible combination of inputs for every possible middle state and return a dictionary\"\"\"\n",
    "    states = [0, 1, 2, 3]\n",
    "    input_combinations = [[\"a\", \"a\"], [\"a\", \"b\"], [\"b\", \"a\"], [\"b\", \"b\"]]\n",
    "    control_all_middle_states = {}\n",
    "\n",
    "    for inp in input_combinations:\n",
    "        label = inp[0] + inp[1]\n",
    "        control_all_middle_states[label] = np.array([fsm_temp[start_state][inp[0]][middle_state] *\n",
    "                                                     fsm_temp[middle_state][inp[1]][final_state] for middle_state in states]).sum()\n",
    "    return control_all_middle_states\n",
    "\n",
    "#control_normative(1, 0, fsm)[\"ba\"]\n",
    "\n",
    "def control_an(start_state, final_state, fsm_temp):\n",
    "    \"\"\" Calculate probabilities of each possible combination of inputs for every possible middle state and return a dictionary\"\"\"\n",
    "    input_combinations = [[\"a\", \"a\"], [\"a\", \"b\"], [\"b\", \"a\"], [\"b\", \"b\"]]\n",
    "    control_ml_middle_state = {}\n",
    "    for inp in input_combinations:\n",
    "        label = inp[0] + inp[1]\n",
    "        max_middle_state = np.array([fsm_temp[start_state][inp[0]]]).argmax()\n",
    "        control_ml_middle_state[label] = np.array([fsm_temp[middle_state][inp[1]][final_state] for middle_state in [max_middle_state]]).sum()\n",
    "    return control_ml_middle_state\n",
    "\n",
    "# Explanation hidden\n",
    "def explain_normative(start_state, first_input, second_input, final_state, fsm_temp):\n",
    "    ans = {}\n",
    "    states = [0, 1, 2, 3]\n",
    "\n",
    "    # first input counterfactual\n",
    "    first_input_cf = \"b\" if first_input == \"a\" else \"a\" #counteractual input 1\n",
    "    explanation_1 = np.array([fsm_temp[start_state][first_input_cf][middle_state] * fsm_temp[middle_state][second_input][final_state]\n",
    "                                                  for middle_state in states]).sum()\n",
    "    ans[\"1\"] = explanation_1\n",
    "\n",
    "    # second input counterfactual\n",
    "    second_input_cf = \"b\" if second_input == \"a\" else \"a\" #counteractual input 2\n",
    "    explanation_2 = np.array([fsm_temp[start_state][first_input][middle_state] * fsm_temp[middle_state][second_input_cf][final_state]\n",
    "                                                  for middle_state in states]).sum()\n",
    "    ans[\"2\"] = explanation_2\n",
    "\n",
    "    return ans\n",
    "\n",
    "def explain_an(start_state, first_input, second_input, final_state, fsm_temp):\n",
    "    ans = {}\n",
    "\n",
    "    # first input counterfactual\n",
    "    first_input_cf = \"b\" if first_input == \"a\" else \"a\" # counteractual input 1\n",
    "    max_middle_state1 = np.array([fsm_temp[start_state][first_input_cf]]).argmax()\n",
    "    explanation_1 = np.array([fsm_temp[middle_state][second_input][final_state] for middle_state in [max_middle_state1]]).sum()\n",
    "    ans[\"1\"] = explanation_1\n",
    "\n",
    "    # second input counterfactual\n",
    "    second_input_cf = \"b\" if second_input == \"a\" else \"a\" # counteractual input 2\n",
    "    max_middle_state2 = np.array([fsm_temp[start_state][first_input]]).argmax()\n",
    "    explanation_2 = np.array([fsm_temp[middle_state][second_input_cf][final_state] for middle_state in [max_middle_state2]]).sum()\n",
    "    ans[\"2\"] = explanation_2\n",
    "\n",
    "    return ans"
   ],
   "metadata": {
    "collapsed": false,
    "pycharm": {
     "name": "#%%\n"
    }
   }
  },
  {
   "cell_type": "code",
   "execution_count": 34,
   "outputs": [],
   "source": [
    "def compute_for_trials(trials, task, form, epsilon, beta):\n",
    "    import math\n",
    "    log_p_answers = []\n",
    "    for index in range(0, trials.shape[0]):\n",
    "        option_1_p_mm = trials.iloc[[index]].option_1_p_mm.item()\n",
    "        option_2_p_mm = trials.iloc[[index]].option_2_p_mm.item()\n",
    "        response = trials.iloc[[index]].response.item()\n",
    "\n",
    "        if task == \"prediction\":\n",
    "            option_1 = int(trials.iloc[[index]].option_1.item())\n",
    "            option_2 = int(trials.iloc[[index]].option_2.item())\n",
    "        if task == \"explanation\":\n",
    "            option_1 = 1\n",
    "            option_2 = 2\n",
    "        if task == \"control\":\n",
    "            option_1 = trials.iloc[[index]].option_1.item() if form == \"hidden\" else \"a\"\n",
    "            option_2 = trials.iloc[[index]].option_2.item() if form == \"hidden\" else \"b\"\n",
    "\n",
    "        # R_i\n",
    "        if option_1_p_mm > option_2_p_mm:\n",
    "            R_i = math.log10((option_1_p_mm + epsilon)/(option_2_p_mm + epsilon))\n",
    "        elif option_1_p_mm < option_2_p_mm:\n",
    "            R_i = math.log10((option_2_p_mm + epsilon)/(option_1_p_mm + epsilon))\n",
    "        else:\n",
    "            R_i = 1\n",
    "\n",
    "        p_correct = (math.e ** (R_i * beta)) / (math.e ** (R_i * beta) + math.e ** (-1 * R_i * beta))\n",
    "\n",
    "        if task == \"explanation\":\n",
    "            correct_mm = option_1 if option_1_p_mm < option_2_p_mm else option_2\n",
    "        else: correct_mm = option_1 if option_1_p_mm > option_2_p_mm else option_2\n",
    "\n",
    "        p_answer = p_correct if response == correct_mm else (1 - p_correct)\n",
    "        log_p_answer = math.log10(p_answer)\n",
    "        log_p_answers.append(log_p_answer)\n",
    "    return log_p_answers\n",
    "\n",
    "def compute_for_trials_an(trials, task, form, epsilon, beta):\n",
    "    import math\n",
    "    log_p_answers = []\n",
    "    for index in range(0, trials.shape[0]):\n",
    "        option_1_p_mm = trials.iloc[[index]].option_1_p_mm_an.item()\n",
    "        option_2_p_mm = trials.iloc[[index]].option_2_p_mm_an.item()\n",
    "        response = trials.iloc[[index]].response.item()\n",
    "\n",
    "        if task == \"prediction\":\n",
    "            option_1 = int(trials.iloc[[index]].option_1.item())\n",
    "            option_2 = int(trials.iloc[[index]].option_2.item())\n",
    "        if task == \"explanation\":\n",
    "            option_1 = 1\n",
    "            option_2 = 2\n",
    "        if task == \"control\":\n",
    "            option_1 = trials.iloc[[index]].option_1.item() if form == \"hidden\" else \"a\"\n",
    "            option_2 = trials.iloc[[index]].option_2.item() if form == \"hidden\" else \"b\"\n",
    "\n",
    "        # R_i\n",
    "        if option_1_p_mm > option_2_p_mm:\n",
    "            R_i = math.log10((option_1_p_mm + epsilon)/(option_2_p_mm + epsilon))\n",
    "        elif option_1_p_mm < option_2_p_mm:\n",
    "            R_i = math.log10((option_2_p_mm + epsilon)/(option_1_p_mm + epsilon))\n",
    "        else:\n",
    "            R_i = 1\n",
    "\n",
    "        p_correct = (math.e ** (R_i * beta)) / (math.e ** (R_i * beta) + math.e ** (-1 * R_i * beta))\n",
    "\n",
    "        if task == \"explanation\":\n",
    "            correct_mm = option_1 if option_1_p_mm < option_2_p_mm else option_2\n",
    "        else: correct_mm = option_1 if option_1_p_mm > option_2_p_mm else option_2\n",
    "\n",
    "        p_answer = p_correct if response == correct_mm else (1 - p_correct)\n",
    "        log_p_answer = math.log10(p_answer)\n",
    "        log_p_answers.append(log_p_answer)\n",
    "    return log_p_answers"
   ],
   "metadata": {
    "collapsed": false,
    "pycharm": {
     "name": "#%%\n"
    }
   }
  },
  {
   "cell_type": "code",
   "execution_count": 35,
   "outputs": [
    {
     "name": "stderr",
     "output_type": "stream",
     "text": [
      "/Users/roman/opt/anaconda3/envs/workspace/lib/python3.7/site-packages/ipykernel_launcher.py:18: RuntimeWarning: invalid value encountered in true_divide\n"
     ]
    }
   ],
   "source": [
    "# Add participants' data in a dictionary + compute MM probabilities\n",
    "\n",
    "sample = {} # created empt dict for all data\n",
    "eps = 0.01\n",
    "\n",
    "for participant_id in trials_learning.participant_id.unique():\n",
    "    # Import data for one subject\n",
    "    ## get data for a single participant\n",
    "    mm = transitions[transitions['participant_id'] == participant_id] # get metal model as a DataFrame\n",
    "    fsm = participants.study_fsm[participants.participant_id == participant_id].item()\n",
    "    learning = trials_learning[trials_learning.participant_id == participant_id]\n",
    "\n",
    "    # Get Visible and Hidden trials for P, E, and C\n",
    "    if trials_prediction[trials_prediction.participant_id == participant_id].size > 0:\n",
    "        trials_vis = trials_prediction[(trials_prediction.participant_id == participant_id) &\n",
    "                                    (trials_prediction.trial_type == \"visible\")]\n",
    "        trials_hid = trials_prediction[(trials_prediction.participant_id == participant_id) &\n",
    "                                   (trials_prediction.trial_type == \"hidden\")]\n",
    "        task = \"prediction\"\n",
    "\n",
    "    if trials_control[trials_control.participant_id == participant_id].size > 0:\n",
    "        trials_vis = trials_control[(trials_control.participant_id == participant_id) &\n",
    "                                    (trials_control.trial_type == \"visible\")]\n",
    "        trials_hid = trials_control[(trials_control.participant_id == participant_id) &\n",
    "                                   (trials_control.trial_type == \"hidden\")]\n",
    "        task = \"control\"\n",
    "\n",
    "    if trials_explanation[trials_explanation.participant_id == participant_id].size > 0:\n",
    "        trials_vis = trials_explanation[(trials_explanation.participant_id == participant_id) &\n",
    "                                 (trials_explanation.trial_type == \"visible\")]\n",
    "        trials_hid = trials_explanation[(trials_explanation.participant_id == participant_id) &\n",
    "                                (trials_explanation.trial_type == \"hidden\")]\n",
    "        task = \"explanation\"\n",
    "\n",
    "    ## select only informative columns\n",
    "    trials_vis = trials_vis.iloc[:,4:]\n",
    "    trials_hid = trials_hid.iloc[:,4:]\n",
    "\n",
    "    # reformat mental model as dictionary\n",
    "    MM = {}\n",
    "    for state_current in mm.state_current.unique():\n",
    "        inputs = {}\n",
    "        for inp in [\"a\", \"b\"]:\n",
    "            inputs[inp] = np.array([mm.state_next_p[(mm.state_current == state_current) & (mm.response_current == inp) & (mm.state_next == 0)].item(),\n",
    "                             mm.state_next_p[(mm.state_current == state_current) & (mm.response_current == inp) & (mm.state_next == 1)].item(),\n",
    "                             mm.state_next_p[(mm.state_current == state_current) & (mm.response_current == inp) & (mm.state_next == 2)].item(),\n",
    "                             mm.state_next_p[(mm.state_current == state_current) & (mm.response_current == inp) & (mm.state_next == 3)].item()])\n",
    "        MM[state_current] = {\"a\":inputs[\"a\"], \"b\": inputs[\"b\"]}\n",
    "\n",
    "\n",
    "    # Use MM to calculate correct answers\n",
    "    if task == \"prediction\":\n",
    "        # Visible\n",
    "        for index in range(0, trials_vis.shape[0]): # shape[0] = number of rows\n",
    "            state_2 = int(trials_vis.iloc[[index]].state_2.item())\n",
    "            response_2 = trials_vis.iloc[[index]].response_2.item()\n",
    "            option_1 = int(trials_vis.iloc[[index]].option_1.item())\n",
    "            option_2 = int(trials_vis.iloc[[index]].option_2.item())\n",
    "            trials_vis.loc[trials_vis.index[index], 'option_1_p_mm'] = MM[state_2][response_2][option_1]\n",
    "            trials_vis.loc[trials_vis.index[index], 'option_2_p_mm'] = MM[state_2][response_2][option_2]\n",
    "\n",
    "        # Hidden\n",
    "        for index in range(0, trials_hid.shape[0]):\n",
    "            state_1 = int(trials_hid.iloc[[index]].state_1.item())\n",
    "            response_1 = trials_hid.iloc[[index]].response_1.item()\n",
    "            response_2 = trials_hid.iloc[[index]].response_2.item()\n",
    "            option_1 = int(trials_hid.iloc[[index]].option_1.item())\n",
    "            option_2 = int(trials_hid.iloc[[index]].option_2.item())\n",
    "\n",
    "            trials_hid.loc[trials_hid.index[index], 'option_1_p_mm'] = predict_normative(state_1, response_1, response_2, MM)[option_1][0]\n",
    "            trials_hid.loc[trials_hid.index[index], 'option_2_p_mm'] = predict_normative(state_1, response_1, response_2, MM)[option_2][0]\n",
    "\n",
    "            trials_hid.loc[trials_hid.index[index], 'option_1_p_mm_an'] = predict_an(state_1, response_1, response_2, MM)[option_1][0]\n",
    "            trials_hid.loc[trials_hid.index[index], 'option_2_p_mm_an'] = predict_an(state_1, response_1, response_2, MM)[option_2][0]\n",
    "\n",
    "    if task == \"control\":\n",
    "        # Visible\n",
    "        for index in range(0, trials_vis.shape[0]): # shape[0] = number of rows\n",
    "            state_2 = int(trials_vis.iloc[[index]].state_2.item())\n",
    "            state_3 = int(trials_vis.iloc[[index]].state_3.item())\n",
    "            option_1 = \"a\"\n",
    "            option_2 = \"b\"\n",
    "            trials_vis.loc[trials_vis.index[index], 'option_1_p_mm'] = MM[state_2][option_1][state_3]\n",
    "            trials_vis.loc[trials_vis.index[index], 'option_2_p_mm'] = MM[state_2][option_2][state_3]\n",
    "\n",
    "        # Hidden\n",
    "        for index in range(0, trials_hid.shape[0]):\n",
    "            state_1 = int(trials_hid.iloc[[index]].state_1.item())\n",
    "            state_3 = int(trials_hid.iloc[[index]].state_3.item())\n",
    "            option_1 = trials_hid.iloc[[index]].option_1.item()\n",
    "            option_2 = trials_hid.iloc[[index]].option_2.item()\n",
    "\n",
    "            trials_hid.loc[trials_hid.index[index], 'option_1_p_mm'] = control_normative(state_1, state_3, MM)[option_1]\n",
    "            trials_hid.loc[trials_hid.index[index], 'option_2_p_mm'] = control_normative(state_1, state_3, MM)[option_2]\n",
    "\n",
    "            trials_hid.loc[trials_hid.index[index], 'option_1_p_mm_an'] = control_an(state_1, state_3, MM)[option_1]\n",
    "            trials_hid.loc[trials_hid.index[index], 'option_2_p_mm_an'] = control_an(state_1, state_3, MM)[option_2]\n",
    "\n",
    "    if task == \"explanation\":\n",
    "        # Visible\n",
    "        for index in range(0, trials_vis.shape[0]): # shape[0] = number of rows\n",
    "            state_1 = int(trials_vis.iloc[[index]].state_1.item())\n",
    "            response_1 = trials_vis.iloc[[index]].response_1.item()\n",
    "            state_2 = int(trials_vis.iloc[[index]].state_2.item())\n",
    "            response_2 = trials_vis.iloc[[index]].response_2.item()\n",
    "            state_3 = int(trials_vis.iloc[[index]].state_3.item())\n",
    "            response_1_cf = \"a\" if response_1 == \"b\" else \"b\"\n",
    "            response_2_cf = \"a\" if response_2 == \"b\" else \"b\"\n",
    "            trials_vis.loc[trials_vis.index[index], 'option_1_p_mm'] = MM[state_1][response_1_cf][state_2] * MM[state_2][response_2][state_3]\n",
    "            trials_vis.loc[trials_vis.index[index], 'option_2_p_mm'] = MM[state_1][response_1][state_2] * MM[state_2][response_2_cf][state_3]\n",
    "\n",
    "        # Hidden\n",
    "        for index in range(0, trials_hid.shape[0]): # shape[0] = number of rows\n",
    "            state_1 = int(trials_hid.iloc[[index]].state_1.item())\n",
    "            response_1 = trials_hid.iloc[[index]].response_1.item()\n",
    "            response_2 = trials_hid.iloc[[index]].response_2.item()\n",
    "            state_3 = int(trials_hid.iloc[[index]].state_3.item())\n",
    "            response_1_cf = \"a\" if response_1 == \"b\" else \"b\"\n",
    "            response_2_cf = \"a\" if response_2 == \"b\" else \"b\"\n",
    "            trials_hid.loc[trials_hid.index[index], 'option_1_p_mm'] = explain_normative(state_1, response_1, response_2, state_3, MM)[\"1\"]\n",
    "            trials_hid.loc[trials_hid.index[index], 'option_2_p_mm'] = explain_normative(state_1, response_1, response_2, state_3, MM)[\"2\"]\n",
    "\n",
    "\n",
    "            trials_hid.loc[trials_hid.index[index], 'option_1_p_mm_an'] = explain_an(state_1, response_1, response_2, state_3, MM)[\"1\"]\n",
    "            trials_hid.loc[trials_hid.index[index], 'option_2_p_mm_an'] = explain_an(state_1, response_1, response_2, state_3, MM)[\"2\"]\n",
    "\n",
    "    # Add beta values\n",
    "    betas = np.arange(0, 1, 0.05)\n",
    "    beta_person = {}\n",
    "    for form in [\"visible\", \"hidden\"]:\n",
    "        log_p_answers = []\n",
    "        if form == \"visible\":\n",
    "            trials = trials_vis\n",
    "        else: trials = trials_hid\n",
    "        all_betas = []\n",
    "        all_betas_an = []\n",
    "        for beta in betas:\n",
    "            log_p_answers = compute_for_trials(trials, task, form, eps, beta)\n",
    "            all_betas.append([round(beta, 2), sum(log_p_answers)])\n",
    "            if form == \"hidden\":\n",
    "                log_p_answers_an = compute_for_trials_an(trials, task, form, eps, beta)\n",
    "                all_betas_an.append([round(beta, 2), sum(log_p_answers_an)])\n",
    "        beta_person[form] = all_betas\n",
    "    beta_person[\"hidden_an\"] = all_betas_an\n",
    "\n",
    "    ## record that data in a dictionary\n",
    "    sample[participant_id] = {\"task\": task,\n",
    "                              \"fsm\": fsm,\n",
    "                              \"learning\": learning.iloc[:,3:],\n",
    "                              \"MM\": MM,\n",
    "                              \"visible\": trials_vis,\n",
    "                              \"hidden\": trials_hid,\n",
    "                              \"visible_beta\": beta_person[\"visible\"],\n",
    "                              \"hidden_beta\": beta_person[\"hidden\"],\n",
    "                              \"hidden_beta_an\": beta_person[\"hidden_an\"] } # make it list by adding \".values.tolist()\"\n",
    "\n",
    "pickle.dump(sample, open( \"sample.p\", \"wb\" ) )"
   ],
   "metadata": {
    "collapsed": false,
    "pycharm": {
     "name": "#%%\n"
    }
   }
  },
  {
   "cell_type": "code",
   "execution_count": 36,
   "outputs": [
    {
     "data": {
      "text/plain": "[[0.0, -3.010299956639812],\n [0.05, -3.044848266881229],\n [0.1, -3.1036776532878427],\n [0.15, -3.1862469136984104],\n [0.2, -3.291692479249728],\n [0.25, -3.41888048277786],\n [0.3, -3.56646984158022],\n [0.35, -3.7329792152572816],\n [0.4, -3.9168514668708827],\n [0.45, -4.116510862874676],\n [0.5, -4.330410166969724],\n [0.55, -4.5570665725136426],\n [0.6, -4.7950868096386445],\n [0.65, -5.04318266677863],\n [0.7, -5.3001786201406835],\n [0.75, -5.565013372967806],\n [0.8, -5.836736988776107],\n [0.85, -6.114505063720467],\n [0.9, -6.397571100215972],\n [0.95, -6.685277966470774]]"
     },
     "execution_count": 36,
     "metadata": {},
     "output_type": "execute_result"
    }
   ],
   "source": [
    "sample[6][\"hidden_beta_an\"]"
   ],
   "metadata": {
    "collapsed": false,
    "pycharm": {
     "name": "#%%\n"
    }
   }
  },
  {
   "cell_type": "code",
   "execution_count": 474,
   "outputs": [
    {
     "data": {
      "text/plain": "[-0.9237130986014216,\n -0.05512413479491798,\n -1.5628276341376452,\n -0.9237130986014216,\n -1.1781909967501585,\n -0.05512413479491798,\n -0.9237130986014216,\n -1.4176817525776,\n -1.4972230270888054,\n -0.9237130986014216]"
     },
     "execution_count": 474,
     "metadata": {},
     "output_type": "execute_result"
    }
   ],
   "source": [
    "trials = sample[2][\"hidden\"]\n",
    "task = sample[2][\"task\"]\n",
    "form = \"hidden\"\n",
    "epsilon = 0.01\n",
    "beta = 1\n",
    "\n",
    "compute_for_trials(trials, task, form, epsilon, beta)"
   ],
   "metadata": {
    "collapsed": false,
    "pycharm": {
     "name": "#%%\n"
    }
   }
  },
  {
   "cell_type": "markdown",
   "source": [],
   "metadata": {
    "collapsed": false,
    "pycharm": {
     "name": "#%% md\n"
    }
   }
  },
  {
   "cell_type": "code",
   "execution_count": 91,
   "outputs": [],
   "source": [
    "results = pd.DataFrame(columns=['condition', 'fsm', 'task', 'beta', 'sum_log_p'])\n",
    "this_row = {}\n",
    "for task in [\"prediction\", \"explanation\", \"control\"]:\n",
    "    for fsm in [\"easy\", \"hard\"]:\n",
    "        for condition in [\"visible_beta\", \"hidden_beta\", \"hidden_beta_an\"]:\n",
    "            running=np.array(sample[2][\"hidden_beta_an\"])\n",
    "            running[:,1] *= 0\n",
    "            for i in sample.keys():\n",
    "                if sample[i][\"task\"] == task and sample[i][\"fsm\"] == fsm:\n",
    "                    running[:,1] += np.array(sample[i][condition])[:,1]\n",
    "            for r in running:\n",
    "                this_row = {'condition':condition, \"fsm\": fsm, \"task\":task, \"beta\": r[0], \"sum_log_p\": r[1]}\n",
    "                results = results.append(this_row, ignore_index = True)\n",
    "\n",
    "filepath = \"../outputs/results_mm_running.csv\"\n",
    "results.to_csv(filepath, index = False)"
   ],
   "metadata": {
    "collapsed": false,
    "pycharm": {
     "name": "#%%\n"
    }
   }
  },
  {
   "cell_type": "code",
   "execution_count": 90,
   "outputs": [
    {
     "data": {
      "text/plain": "          condition   fsm        task  beta  sum_log_p\n0      visible_beta  easy  prediction  0.00 -45.154499\n1      visible_beta  easy  prediction  0.05 -41.084427\n2      visible_beta  easy  prediction  0.10 -37.548139\n3      visible_beta  easy  prediction  0.15 -34.531708\n4      visible_beta  easy  prediction  0.20 -32.013012\n..              ...   ...         ...   ...        ...\n355  hidden_beta_an  hard     control  0.75 -70.613505\n356  hidden_beta_an  hard     control  0.80 -73.728497\n357  hidden_beta_an  hard     control  0.85 -76.943427\n358  hidden_beta_an  hard     control  0.90 -80.246465\n359  hidden_beta_an  hard     control  0.95 -83.627138\n\n[360 rows x 5 columns]",
      "text/html": "<div>\n<style scoped>\n    .dataframe tbody tr th:only-of-type {\n        vertical-align: middle;\n    }\n\n    .dataframe tbody tr th {\n        vertical-align: top;\n    }\n\n    .dataframe thead th {\n        text-align: right;\n    }\n</style>\n<table border=\"1\" class=\"dataframe\">\n  <thead>\n    <tr style=\"text-align: right;\">\n      <th></th>\n      <th>condition</th>\n      <th>fsm</th>\n      <th>task</th>\n      <th>beta</th>\n      <th>sum_log_p</th>\n    </tr>\n  </thead>\n  <tbody>\n    <tr>\n      <th>0</th>\n      <td>visible_beta</td>\n      <td>easy</td>\n      <td>prediction</td>\n      <td>0.00</td>\n      <td>-45.154499</td>\n    </tr>\n    <tr>\n      <th>1</th>\n      <td>visible_beta</td>\n      <td>easy</td>\n      <td>prediction</td>\n      <td>0.05</td>\n      <td>-41.084427</td>\n    </tr>\n    <tr>\n      <th>2</th>\n      <td>visible_beta</td>\n      <td>easy</td>\n      <td>prediction</td>\n      <td>0.10</td>\n      <td>-37.548139</td>\n    </tr>\n    <tr>\n      <th>3</th>\n      <td>visible_beta</td>\n      <td>easy</td>\n      <td>prediction</td>\n      <td>0.15</td>\n      <td>-34.531708</td>\n    </tr>\n    <tr>\n      <th>4</th>\n      <td>visible_beta</td>\n      <td>easy</td>\n      <td>prediction</td>\n      <td>0.20</td>\n      <td>-32.013012</td>\n    </tr>\n    <tr>\n      <th>...</th>\n      <td>...</td>\n      <td>...</td>\n      <td>...</td>\n      <td>...</td>\n      <td>...</td>\n    </tr>\n    <tr>\n      <th>355</th>\n      <td>hidden_beta_an</td>\n      <td>hard</td>\n      <td>control</td>\n      <td>0.75</td>\n      <td>-70.613505</td>\n    </tr>\n    <tr>\n      <th>356</th>\n      <td>hidden_beta_an</td>\n      <td>hard</td>\n      <td>control</td>\n      <td>0.80</td>\n      <td>-73.728497</td>\n    </tr>\n    <tr>\n      <th>357</th>\n      <td>hidden_beta_an</td>\n      <td>hard</td>\n      <td>control</td>\n      <td>0.85</td>\n      <td>-76.943427</td>\n    </tr>\n    <tr>\n      <th>358</th>\n      <td>hidden_beta_an</td>\n      <td>hard</td>\n      <td>control</td>\n      <td>0.90</td>\n      <td>-80.246465</td>\n    </tr>\n    <tr>\n      <th>359</th>\n      <td>hidden_beta_an</td>\n      <td>hard</td>\n      <td>control</td>\n      <td>0.95</td>\n      <td>-83.627138</td>\n    </tr>\n  </tbody>\n</table>\n<p>360 rows × 5 columns</p>\n</div>"
     },
     "execution_count": 90,
     "metadata": {},
     "output_type": "execute_result"
    }
   ],
   "source": [
    "results"
   ],
   "metadata": {
    "collapsed": false,
    "pycharm": {
     "name": "#%%\n"
    }
   }
  }
 ],
 "metadata": {
  "kernelspec": {
   "display_name": "Python 3",
   "language": "python",
   "name": "python3"
  },
  "language_info": {
   "codemirror_mode": {
    "name": "ipython",
    "version": 2
   },
   "file_extension": ".py",
   "mimetype": "text/x-python",
   "name": "python",
   "nbconvert_exporter": "python",
   "pygments_lexer": "ipython2",
   "version": "2.7.6"
  }
 },
 "nbformat": 4,
 "nbformat_minor": 0
}