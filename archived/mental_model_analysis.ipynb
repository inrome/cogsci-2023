{
 "cells": [
  {
   "cell_type": "code",
   "execution_count": 1,
   "metadata": {
    "collapsed": true,
    "pycharm": {
     "name": "#%%\n"
    },
    "id": "pBSq_Ybl7oNR",
    "executionInfo": {
     "status": "ok",
     "timestamp": 1676497439312,
     "user_tz": 300,
     "elapsed": 682,
     "user": {
      "displayName": "Roman Tikhonov",
      "userId": "09406929692015557698"
     }
    }
   },
   "outputs": [],
   "source": [
    "import numpy as np\n",
    "import pandas as pd\n",
    "import pickle\n",
    "import math"
   ]
  },
  {
   "cell_type": "code",
   "execution_count": 2,
   "outputs": [
    {
     "output_type": "error",
     "ename": "FileNotFoundError",
     "evalue": "ignored",
     "traceback": [
      "\u001B[0;31m---------------------------------------------------------------------------\u001B[0m",
      "\u001B[0;31mFileNotFoundError\u001B[0m                         Traceback (most recent call last)",
      "\u001B[0;32m<ipython-input-2-10ce854909d6>\u001B[0m in \u001B[0;36m<module>\u001B[0;34m\u001B[0m\n\u001B[0;32m----> 1\u001B[0;31m \u001B[0mparticipants\u001B[0m \u001B[0;34m=\u001B[0m \u001B[0mpd\u001B[0m\u001B[0;34m.\u001B[0m\u001B[0mread_csv\u001B[0m\u001B[0;34m(\u001B[0m\u001B[0;34m'../data_clean/2023-01-28_participants_clean_an-exp1_n-91.csv'\u001B[0m\u001B[0;34m,\u001B[0m \u001B[0msep\u001B[0m \u001B[0;34m=\u001B[0m \u001B[0;34m\",\"\u001B[0m\u001B[0;34m)\u001B[0m\u001B[0;34m\u001B[0m\u001B[0;34m\u001B[0m\u001B[0m\n\u001B[0m\u001B[1;32m      2\u001B[0m \u001B[0mtransitions\u001B[0m \u001B[0;34m=\u001B[0m \u001B[0mpd\u001B[0m\u001B[0;34m.\u001B[0m\u001B[0mread_csv\u001B[0m\u001B[0;34m(\u001B[0m\u001B[0;34m\"../data_clean/2023-01-28_transitions_clean_an-exp1_n-91.csv\"\u001B[0m\u001B[0;34m,\u001B[0m \u001B[0msep\u001B[0m \u001B[0;34m=\u001B[0m \u001B[0;34m\",\"\u001B[0m\u001B[0;34m)\u001B[0m\u001B[0;34m\u001B[0m\u001B[0;34m\u001B[0m\u001B[0m\n\u001B[1;32m      3\u001B[0m \u001B[0mtrials_learning\u001B[0m \u001B[0;34m=\u001B[0m \u001B[0mpd\u001B[0m\u001B[0;34m.\u001B[0m\u001B[0mread_csv\u001B[0m\u001B[0;34m(\u001B[0m\u001B[0;34m'../data_clean/2023-01-28_learning_clean_an-exp1_n-91.csv'\u001B[0m\u001B[0;34m,\u001B[0m \u001B[0msep\u001B[0m \u001B[0;34m=\u001B[0m \u001B[0;34m\",\"\u001B[0m\u001B[0;34m)\u001B[0m\u001B[0;34m\u001B[0m\u001B[0;34m\u001B[0m\u001B[0m\n\u001B[1;32m      4\u001B[0m \u001B[0mtrials_prediction\u001B[0m \u001B[0;34m=\u001B[0m \u001B[0mpd\u001B[0m\u001B[0;34m.\u001B[0m\u001B[0mread_csv\u001B[0m\u001B[0;34m(\u001B[0m\u001B[0;34m'../data_clean/2023-01-28_test_prediction_clean_an-exp1_n-91.csv'\u001B[0m\u001B[0;34m,\u001B[0m \u001B[0msep\u001B[0m \u001B[0;34m=\u001B[0m \u001B[0;34m\",\"\u001B[0m\u001B[0;34m)\u001B[0m\u001B[0;34m\u001B[0m\u001B[0;34m\u001B[0m\u001B[0m\n\u001B[1;32m      5\u001B[0m \u001B[0mtrials_control\u001B[0m \u001B[0;34m=\u001B[0m \u001B[0mpd\u001B[0m\u001B[0;34m.\u001B[0m\u001B[0mread_csv\u001B[0m\u001B[0;34m(\u001B[0m\u001B[0;34m'../data_clean/2023-01-28_test_control_clean_an-exp1_n-91.csv'\u001B[0m\u001B[0;34m,\u001B[0m \u001B[0msep\u001B[0m \u001B[0;34m=\u001B[0m \u001B[0;34m\",\"\u001B[0m\u001B[0;34m)\u001B[0m\u001B[0;34m\u001B[0m\u001B[0;34m\u001B[0m\u001B[0m\n",
      "\u001B[0;32m/usr/local/lib/python3.8/dist-packages/pandas/util/_decorators.py\u001B[0m in \u001B[0;36mwrapper\u001B[0;34m(*args, **kwargs)\u001B[0m\n\u001B[1;32m    309\u001B[0m                     \u001B[0mstacklevel\u001B[0m\u001B[0;34m=\u001B[0m\u001B[0mstacklevel\u001B[0m\u001B[0;34m,\u001B[0m\u001B[0;34m\u001B[0m\u001B[0;34m\u001B[0m\u001B[0m\n\u001B[1;32m    310\u001B[0m                 )\n\u001B[0;32m--> 311\u001B[0;31m             \u001B[0;32mreturn\u001B[0m \u001B[0mfunc\u001B[0m\u001B[0;34m(\u001B[0m\u001B[0;34m*\u001B[0m\u001B[0margs\u001B[0m\u001B[0;34m,\u001B[0m \u001B[0;34m**\u001B[0m\u001B[0mkwargs\u001B[0m\u001B[0;34m)\u001B[0m\u001B[0;34m\u001B[0m\u001B[0;34m\u001B[0m\u001B[0m\n\u001B[0m\u001B[1;32m    312\u001B[0m \u001B[0;34m\u001B[0m\u001B[0m\n\u001B[1;32m    313\u001B[0m         \u001B[0;32mreturn\u001B[0m \u001B[0mwrapper\u001B[0m\u001B[0;34m\u001B[0m\u001B[0;34m\u001B[0m\u001B[0m\n",
      "\u001B[0;32m/usr/local/lib/python3.8/dist-packages/pandas/io/parsers/readers.py\u001B[0m in \u001B[0;36mread_csv\u001B[0;34m(filepath_or_buffer, sep, delimiter, header, names, index_col, usecols, squeeze, prefix, mangle_dupe_cols, dtype, engine, converters, true_values, false_values, skipinitialspace, skiprows, skipfooter, nrows, na_values, keep_default_na, na_filter, verbose, skip_blank_lines, parse_dates, infer_datetime_format, keep_date_col, date_parser, dayfirst, cache_dates, iterator, chunksize, compression, thousands, decimal, lineterminator, quotechar, quoting, doublequote, escapechar, comment, encoding, encoding_errors, dialect, error_bad_lines, warn_bad_lines, on_bad_lines, delim_whitespace, low_memory, memory_map, float_precision, storage_options)\u001B[0m\n\u001B[1;32m    584\u001B[0m     \u001B[0mkwds\u001B[0m\u001B[0;34m.\u001B[0m\u001B[0mupdate\u001B[0m\u001B[0;34m(\u001B[0m\u001B[0mkwds_defaults\u001B[0m\u001B[0;34m)\u001B[0m\u001B[0;34m\u001B[0m\u001B[0;34m\u001B[0m\u001B[0m\n\u001B[1;32m    585\u001B[0m \u001B[0;34m\u001B[0m\u001B[0m\n\u001B[0;32m--> 586\u001B[0;31m     \u001B[0;32mreturn\u001B[0m \u001B[0m_read\u001B[0m\u001B[0;34m(\u001B[0m\u001B[0mfilepath_or_buffer\u001B[0m\u001B[0;34m,\u001B[0m \u001B[0mkwds\u001B[0m\u001B[0;34m)\u001B[0m\u001B[0;34m\u001B[0m\u001B[0;34m\u001B[0m\u001B[0m\n\u001B[0m\u001B[1;32m    587\u001B[0m \u001B[0;34m\u001B[0m\u001B[0m\n\u001B[1;32m    588\u001B[0m \u001B[0;34m\u001B[0m\u001B[0m\n",
      "\u001B[0;32m/usr/local/lib/python3.8/dist-packages/pandas/io/parsers/readers.py\u001B[0m in \u001B[0;36m_read\u001B[0;34m(filepath_or_buffer, kwds)\u001B[0m\n\u001B[1;32m    480\u001B[0m \u001B[0;34m\u001B[0m\u001B[0m\n\u001B[1;32m    481\u001B[0m     \u001B[0;31m# Create the parser.\u001B[0m\u001B[0;34m\u001B[0m\u001B[0;34m\u001B[0m\u001B[0;34m\u001B[0m\u001B[0m\n\u001B[0;32m--> 482\u001B[0;31m     \u001B[0mparser\u001B[0m \u001B[0;34m=\u001B[0m \u001B[0mTextFileReader\u001B[0m\u001B[0;34m(\u001B[0m\u001B[0mfilepath_or_buffer\u001B[0m\u001B[0;34m,\u001B[0m \u001B[0;34m**\u001B[0m\u001B[0mkwds\u001B[0m\u001B[0;34m)\u001B[0m\u001B[0;34m\u001B[0m\u001B[0;34m\u001B[0m\u001B[0m\n\u001B[0m\u001B[1;32m    483\u001B[0m \u001B[0;34m\u001B[0m\u001B[0m\n\u001B[1;32m    484\u001B[0m     \u001B[0;32mif\u001B[0m \u001B[0mchunksize\u001B[0m \u001B[0;32mor\u001B[0m \u001B[0miterator\u001B[0m\u001B[0;34m:\u001B[0m\u001B[0;34m\u001B[0m\u001B[0;34m\u001B[0m\u001B[0m\n",
      "\u001B[0;32m/usr/local/lib/python3.8/dist-packages/pandas/io/parsers/readers.py\u001B[0m in \u001B[0;36m__init__\u001B[0;34m(self, f, engine, **kwds)\u001B[0m\n\u001B[1;32m    809\u001B[0m             \u001B[0mself\u001B[0m\u001B[0;34m.\u001B[0m\u001B[0moptions\u001B[0m\u001B[0;34m[\u001B[0m\u001B[0;34m\"has_index_names\"\u001B[0m\u001B[0;34m]\u001B[0m \u001B[0;34m=\u001B[0m \u001B[0mkwds\u001B[0m\u001B[0;34m[\u001B[0m\u001B[0;34m\"has_index_names\"\u001B[0m\u001B[0;34m]\u001B[0m\u001B[0;34m\u001B[0m\u001B[0;34m\u001B[0m\u001B[0m\n\u001B[1;32m    810\u001B[0m \u001B[0;34m\u001B[0m\u001B[0m\n\u001B[0;32m--> 811\u001B[0;31m         \u001B[0mself\u001B[0m\u001B[0;34m.\u001B[0m\u001B[0m_engine\u001B[0m \u001B[0;34m=\u001B[0m \u001B[0mself\u001B[0m\u001B[0;34m.\u001B[0m\u001B[0m_make_engine\u001B[0m\u001B[0;34m(\u001B[0m\u001B[0mself\u001B[0m\u001B[0;34m.\u001B[0m\u001B[0mengine\u001B[0m\u001B[0;34m)\u001B[0m\u001B[0;34m\u001B[0m\u001B[0;34m\u001B[0m\u001B[0m\n\u001B[0m\u001B[1;32m    812\u001B[0m \u001B[0;34m\u001B[0m\u001B[0m\n\u001B[1;32m    813\u001B[0m     \u001B[0;32mdef\u001B[0m \u001B[0mclose\u001B[0m\u001B[0;34m(\u001B[0m\u001B[0mself\u001B[0m\u001B[0;34m)\u001B[0m\u001B[0;34m:\u001B[0m\u001B[0;34m\u001B[0m\u001B[0;34m\u001B[0m\u001B[0m\n",
      "\u001B[0;32m/usr/local/lib/python3.8/dist-packages/pandas/io/parsers/readers.py\u001B[0m in \u001B[0;36m_make_engine\u001B[0;34m(self, engine)\u001B[0m\n\u001B[1;32m   1038\u001B[0m             )\n\u001B[1;32m   1039\u001B[0m         \u001B[0;31m# error: Too many arguments for \"ParserBase\"\u001B[0m\u001B[0;34m\u001B[0m\u001B[0;34m\u001B[0m\u001B[0;34m\u001B[0m\u001B[0m\n\u001B[0;32m-> 1040\u001B[0;31m         \u001B[0;32mreturn\u001B[0m \u001B[0mmapping\u001B[0m\u001B[0;34m[\u001B[0m\u001B[0mengine\u001B[0m\u001B[0;34m]\u001B[0m\u001B[0;34m(\u001B[0m\u001B[0mself\u001B[0m\u001B[0;34m.\u001B[0m\u001B[0mf\u001B[0m\u001B[0;34m,\u001B[0m \u001B[0;34m**\u001B[0m\u001B[0mself\u001B[0m\u001B[0;34m.\u001B[0m\u001B[0moptions\u001B[0m\u001B[0;34m)\u001B[0m  \u001B[0;31m# type: ignore[call-arg]\u001B[0m\u001B[0;34m\u001B[0m\u001B[0;34m\u001B[0m\u001B[0m\n\u001B[0m\u001B[1;32m   1041\u001B[0m \u001B[0;34m\u001B[0m\u001B[0m\n\u001B[1;32m   1042\u001B[0m     \u001B[0;32mdef\u001B[0m \u001B[0m_failover_to_python\u001B[0m\u001B[0;34m(\u001B[0m\u001B[0mself\u001B[0m\u001B[0;34m)\u001B[0m\u001B[0;34m:\u001B[0m\u001B[0;34m\u001B[0m\u001B[0;34m\u001B[0m\u001B[0m\n",
      "\u001B[0;32m/usr/local/lib/python3.8/dist-packages/pandas/io/parsers/c_parser_wrapper.py\u001B[0m in \u001B[0;36m__init__\u001B[0;34m(self, src, **kwds)\u001B[0m\n\u001B[1;32m     49\u001B[0m \u001B[0;34m\u001B[0m\u001B[0m\n\u001B[1;32m     50\u001B[0m         \u001B[0;31m# open handles\u001B[0m\u001B[0;34m\u001B[0m\u001B[0;34m\u001B[0m\u001B[0;34m\u001B[0m\u001B[0m\n\u001B[0;32m---> 51\u001B[0;31m         \u001B[0mself\u001B[0m\u001B[0;34m.\u001B[0m\u001B[0m_open_handles\u001B[0m\u001B[0;34m(\u001B[0m\u001B[0msrc\u001B[0m\u001B[0;34m,\u001B[0m \u001B[0mkwds\u001B[0m\u001B[0;34m)\u001B[0m\u001B[0;34m\u001B[0m\u001B[0;34m\u001B[0m\u001B[0m\n\u001B[0m\u001B[1;32m     52\u001B[0m         \u001B[0;32massert\u001B[0m \u001B[0mself\u001B[0m\u001B[0;34m.\u001B[0m\u001B[0mhandles\u001B[0m \u001B[0;32mis\u001B[0m \u001B[0;32mnot\u001B[0m \u001B[0;32mNone\u001B[0m\u001B[0;34m\u001B[0m\u001B[0;34m\u001B[0m\u001B[0m\n\u001B[1;32m     53\u001B[0m \u001B[0;34m\u001B[0m\u001B[0m\n",
      "\u001B[0;32m/usr/local/lib/python3.8/dist-packages/pandas/io/parsers/base_parser.py\u001B[0m in \u001B[0;36m_open_handles\u001B[0;34m(self, src, kwds)\u001B[0m\n\u001B[1;32m    220\u001B[0m         \u001B[0mLet\u001B[0m \u001B[0mthe\u001B[0m \u001B[0mreaders\u001B[0m \u001B[0mopen\u001B[0m \u001B[0mIOHandles\u001B[0m \u001B[0mafter\u001B[0m \u001B[0mthey\u001B[0m \u001B[0mare\u001B[0m \u001B[0mdone\u001B[0m \u001B[0;32mwith\u001B[0m \u001B[0mtheir\u001B[0m \u001B[0mpotential\u001B[0m \u001B[0mraises\u001B[0m\u001B[0;34m.\u001B[0m\u001B[0;34m\u001B[0m\u001B[0;34m\u001B[0m\u001B[0m\n\u001B[1;32m    221\u001B[0m         \"\"\"\n\u001B[0;32m--> 222\u001B[0;31m         self.handles = get_handle(\n\u001B[0m\u001B[1;32m    223\u001B[0m             \u001B[0msrc\u001B[0m\u001B[0;34m,\u001B[0m\u001B[0;34m\u001B[0m\u001B[0;34m\u001B[0m\u001B[0m\n\u001B[1;32m    224\u001B[0m             \u001B[0;34m\"r\"\u001B[0m\u001B[0;34m,\u001B[0m\u001B[0;34m\u001B[0m\u001B[0;34m\u001B[0m\u001B[0m\n",
      "\u001B[0;32m/usr/local/lib/python3.8/dist-packages/pandas/io/common.py\u001B[0m in \u001B[0;36mget_handle\u001B[0;34m(path_or_buf, mode, encoding, compression, memory_map, is_text, errors, storage_options)\u001B[0m\n\u001B[1;32m    700\u001B[0m         \u001B[0;32mif\u001B[0m \u001B[0mioargs\u001B[0m\u001B[0;34m.\u001B[0m\u001B[0mencoding\u001B[0m \u001B[0;32mand\u001B[0m \u001B[0;34m\"b\"\u001B[0m \u001B[0;32mnot\u001B[0m \u001B[0;32min\u001B[0m \u001B[0mioargs\u001B[0m\u001B[0;34m.\u001B[0m\u001B[0mmode\u001B[0m\u001B[0;34m:\u001B[0m\u001B[0;34m\u001B[0m\u001B[0;34m\u001B[0m\u001B[0m\n\u001B[1;32m    701\u001B[0m             \u001B[0;31m# Encoding\u001B[0m\u001B[0;34m\u001B[0m\u001B[0;34m\u001B[0m\u001B[0;34m\u001B[0m\u001B[0m\n\u001B[0;32m--> 702\u001B[0;31m             handle = open(\n\u001B[0m\u001B[1;32m    703\u001B[0m                 \u001B[0mhandle\u001B[0m\u001B[0;34m,\u001B[0m\u001B[0;34m\u001B[0m\u001B[0;34m\u001B[0m\u001B[0m\n\u001B[1;32m    704\u001B[0m                 \u001B[0mioargs\u001B[0m\u001B[0;34m.\u001B[0m\u001B[0mmode\u001B[0m\u001B[0;34m,\u001B[0m\u001B[0;34m\u001B[0m\u001B[0;34m\u001B[0m\u001B[0m\n",
      "\u001B[0;31mFileNotFoundError\u001B[0m: [Errno 2] No such file or directory: '../data_clean/2023-01-28_participants_clean_an-exp1_n-91.csv'"
     ]
    }
   ],
   "source": [
    "participants = pd.read_csv('../data_clean/2023-01-28_participants_clean_an-exp1_n-91.csv', sep = \",\")\n",
    "transitions = pd.read_csv(\"../data_clean/2023-01-28_transitions_clean_an-exp1_n-91.csv\", sep = \",\")\n",
    "trials_learning = pd.read_csv('../data_clean/2023-01-28_learning_clean_an-exp1_n-91.csv', sep = \",\")\n",
    "trials_prediction = pd.read_csv('../data_clean/2023-01-28_test_prediction_clean_an-exp1_n-91.csv', sep = \",\")\n",
    "trials_control = pd.read_csv('../data_clean/2023-01-28_test_control_clean_an-exp1_n-91.csv', sep = \",\")\n",
    "trials_explanation = pd.read_csv('../data_clean/2023-01-28_test_explanation_clean_an-exp1_n-91.csv', sep = \",\")"
   ],
   "metadata": {
    "pycharm": {
     "name": "#%%\n"
    },
    "id": "ExTqUb1D7oNS",
    "executionInfo": {
     "status": "error",
     "timestamp": 1676497443295,
     "user_tz": 300,
     "elapsed": 1002,
     "user": {
      "displayName": "Roman Tikhonov",
      "userId": "09406929692015557698"
     }
    },
    "outputId": "a057e49e-f0b4-4190-bab4-44e8b14060c4",
    "colab": {
     "base_uri": "https://localhost:8080/",
     "height": 381
    }
   }
  },
  {
   "cell_type": "code",
   "execution_count": null,
   "outputs": [],
   "source": [
    "# Define functions for hidden cases\n",
    "\n",
    "def predict_normative(start_state, first_input, second_input, fsm_temp):\n",
    "    \"\"\"Return an array with probabilities of each final state\"\"\"\n",
    "    states = [0, 1, 2, 3]\n",
    "    return np.array(\n",
    "        [np.array([fsm_temp[start_state][first_input][middle_state] * fsm_temp[middle_state][second_input][final_state]\n",
    "                   for middle_state in states]).sum()\n",
    "         for final_state in states],\n",
    "        dtype=[(str(start_state) + \"—\" + first_input + \"–[All paths]–\" + second_input + \"–?\", \"float16\")])\n",
    "\n",
    "def predict_an(start_state, first_input, second_input, fsm_temp):\n",
    "    states = [0, 1, 2, 3]\n",
    "    max_middle_state = np.array([fsm_temp[start_state][first_input]]).argmax()\n",
    "    ans = np.array([np.array([fsm_temp[middle_state][second_input][final_state]\n",
    "                              for middle_state in [max_middle_state]]).sum()\n",
    "                    for final_state in states])\n",
    "    return np.array(ans / ans.sum(),\n",
    "                    dtype=[(str(start_state) + \"—\" + first_input + \"–[ML path]–\" + second_input + \"–?\", \"float16\")])\n",
    "\n",
    "def control_normative(start_state, final_state, fsm_temp):\n",
    "    \"\"\" Calculate probabilities of each possible combination of inputs for every possible middle state and return a dictionary\"\"\"\n",
    "    states = [0, 1, 2, 3]\n",
    "    input_combinations = [[\"a\", \"a\"], [\"a\", \"b\"], [\"b\", \"a\"], [\"b\", \"b\"]]\n",
    "    control_all_middle_states = {}\n",
    "\n",
    "    for inp in input_combinations:\n",
    "        label = inp[0] + inp[1]\n",
    "        control_all_middle_states[label] = np.array([fsm_temp[start_state][inp[0]][middle_state] *\n",
    "                                                     fsm_temp[middle_state][inp[1]][final_state] for middle_state in states]).sum()\n",
    "    return control_all_middle_states\n",
    "\n",
    "#control_normative(1, 0, fsm)[\"ba\"]\n",
    "\n",
    "def control_an(start_state, final_state, fsm_temp):\n",
    "    \"\"\" Calculate probabilities of each possible combination of inputs for every possible middle state and return a dictionary\"\"\"\n",
    "    input_combinations = [[\"a\", \"a\"], [\"a\", \"b\"], [\"b\", \"a\"], [\"b\", \"b\"]]\n",
    "    control_ml_middle_state = {}\n",
    "    for inp in input_combinations:\n",
    "        label = inp[0] + inp[1]\n",
    "        max_middle_state = np.array([fsm_temp[start_state][inp[0]]]).argmax()\n",
    "        control_ml_middle_state[label] = np.array([fsm_temp[middle_state][inp[1]][final_state] for middle_state in [max_middle_state]]).sum()\n",
    "    return control_ml_middle_state\n",
    "\n",
    "# Explanation hidden\n",
    "def explain_normative(start_state, first_input, second_input, final_state, fsm_temp):\n",
    "    ans = {}\n",
    "    states = [0, 1, 2, 3]\n",
    "\n",
    "    # first input counterfactual\n",
    "    first_input_cf = \"b\" if first_input == \"a\" else \"a\" #counteractual input 1\n",
    "    explanation_1 = np.array([fsm_temp[start_state][first_input_cf][middle_state] * fsm_temp[middle_state][second_input][final_state]\n",
    "                                                  for middle_state in states]).sum()\n",
    "    ans[\"1\"] = explanation_1\n",
    "\n",
    "    # second input counterfactual\n",
    "    second_input_cf = \"b\" if second_input == \"a\" else \"a\" #counteractual input 2\n",
    "    explanation_2 = np.array([fsm_temp[start_state][first_input][middle_state] * fsm_temp[middle_state][second_input_cf][final_state]\n",
    "                                                  for middle_state in states]).sum()\n",
    "    ans[\"2\"] = explanation_2\n",
    "\n",
    "    return ans\n",
    "\n",
    "def explain_an(start_state, first_input, second_input, final_state, fsm_temp):\n",
    "    ans = {}\n",
    "\n",
    "    # first input counterfactual\n",
    "    first_input_cf = \"b\" if first_input == \"a\" else \"a\" # counteractual input 1\n",
    "    max_middle_state1 = np.array([fsm_temp[start_state][first_input_cf]]).argmax()\n",
    "    explanation_1 = np.array([fsm_temp[middle_state][second_input][final_state] for middle_state in [max_middle_state1]]).sum()\n",
    "    ans[\"1\"] = explanation_1\n",
    "\n",
    "    # second input counterfactual\n",
    "    second_input_cf = \"b\" if second_input == \"a\" else \"a\" # counteractual input 2\n",
    "    max_middle_state2 = np.array([fsm_temp[start_state][first_input]]).argmax()\n",
    "    explanation_2 = np.array([fsm_temp[middle_state][second_input_cf][final_state] for middle_state in [max_middle_state2]]).sum()\n",
    "    ans[\"2\"] = explanation_2\n",
    "\n",
    "    return ans"
   ],
   "metadata": {
    "pycharm": {
     "name": "#%%\n"
    },
    "id": "PZ-dWtWa7oNS"
   }
  },
  {
   "cell_type": "code",
   "execution_count": null,
   "outputs": [],
   "source": [
    "def compute_for_trials(trials, task, form, epsilon, beta):\n",
    "    import math\n",
    "    log_p_answers = []\n",
    "    for index in range(0, trials.shape[0]):\n",
    "        option_1_p_mm = trials.iloc[[index]].option_1_p_mm.item()\n",
    "        option_2_p_mm = trials.iloc[[index]].option_2_p_mm.item()\n",
    "        response = trials.iloc[[index]].response.item()\n",
    "\n",
    "        if task == \"prediction\":\n",
    "            option_1 = int(trials.iloc[[index]].option_1.item())\n",
    "            option_2 = int(trials.iloc[[index]].option_2.item())\n",
    "        if task == \"explanation\":\n",
    "            option_1 = 1\n",
    "            option_2 = 2\n",
    "        if task == \"control\":\n",
    "            option_1 = trials.iloc[[index]].option_1.item() if form == \"hidden\" else \"a\"\n",
    "            option_2 = trials.iloc[[index]].option_2.item() if form == \"hidden\" else \"b\"\n",
    "\n",
    "        # R_i\n",
    "        if option_1_p_mm > option_2_p_mm:\n",
    "            R_i = math.log((option_1_p_mm + epsilon)/(option_2_p_mm + epsilon))\n",
    "        elif option_1_p_mm < option_2_p_mm:\n",
    "            R_i = math.log((option_2_p_mm + epsilon)/(option_1_p_mm + epsilon))\n",
    "        else:\n",
    "            R_i = 1\n",
    "\n",
    "        p_correct = (math.e ** (R_i * beta)) / (math.e ** (R_i * beta) + math.e ** (-1 * R_i * beta))\n",
    "\n",
    "        if task == \"explanation\":\n",
    "            correct_mm = option_1 if option_1_p_mm < option_2_p_mm else option_2\n",
    "        else: correct_mm = option_1 if option_1_p_mm > option_2_p_mm else option_2\n",
    "\n",
    "        p_answer = p_correct if response == correct_mm else (1 - p_correct)\n",
    "        log_p_answer = math.log(p_answer)\n",
    "        log_p_answers.append(log_p_answer)\n",
    "    return log_p_answers\n",
    "\n",
    "def compute_for_trials_an(trials, task, form, epsilon, beta):\n",
    "    import math\n",
    "    log_p_answers = []\n",
    "    for index in range(0, trials.shape[0]):\n",
    "        option_1_p_mm = trials.iloc[[index]].option_1_p_mm_an.item()\n",
    "        option_2_p_mm = trials.iloc[[index]].option_2_p_mm_an.item()\n",
    "        response = trials.iloc[[index]].response.item()\n",
    "\n",
    "        if task == \"prediction\":\n",
    "            option_1 = int(trials.iloc[[index]].option_1.item())\n",
    "            option_2 = int(trials.iloc[[index]].option_2.item())\n",
    "        if task == \"explanation\":\n",
    "            option_1 = 1\n",
    "            option_2 = 2\n",
    "        if task == \"control\":\n",
    "            option_1 = trials.iloc[[index]].option_1.item() if form == \"hidden\" else \"a\"\n",
    "            option_2 = trials.iloc[[index]].option_2.item() if form == \"hidden\" else \"b\"\n",
    "\n",
    "        # R_i\n",
    "        if option_1_p_mm > option_2_p_mm:\n",
    "            R_i = math.log((option_1_p_mm + epsilon)/(option_2_p_mm + epsilon))\n",
    "        elif option_1_p_mm < option_2_p_mm:\n",
    "            R_i = math.log((option_2_p_mm + epsilon)/(option_1_p_mm + epsilon))\n",
    "        else:\n",
    "            R_i = 1\n",
    "\n",
    "        p_correct = (math.e ** (R_i * beta)) / (math.e ** (R_i * beta) + math.e ** (-1 * R_i * beta))\n",
    "\n",
    "        if task == \"explanation\":\n",
    "            correct_mm = option_1 if option_1_p_mm < option_2_p_mm else option_2\n",
    "        else: correct_mm = option_1 if option_1_p_mm > option_2_p_mm else option_2\n",
    "\n",
    "        p_answer = p_correct if response == correct_mm else (1 - p_correct)\n",
    "        log_p_answer = math.log(p_answer)\n",
    "        log_p_answers.append(log_p_answer)\n",
    "    return log_p_answers\n",
    "\n",
    "def compute_for_trials_fsm(trials, task, form, epsilon, beta):\n",
    "    import math\n",
    "    log_p_answers = []\n",
    "    for index in range(0, trials.shape[0]):\n",
    "        option_1_p_mm = trials.iloc[[index]].option_1_p.item()\n",
    "        option_2_p_mm = trials.iloc[[index]].option_2_p.item()\n",
    "        response = trials.iloc[[index]].response.item()\n",
    "\n",
    "        if task == \"prediction\":\n",
    "            option_1 = int(trials.iloc[[index]].option_1.item())\n",
    "            option_2 = int(trials.iloc[[index]].option_2.item())\n",
    "        if task == \"explanation\":\n",
    "            option_1 = 1\n",
    "            option_2 = 2\n",
    "        if task == \"control\":\n",
    "            option_1 = trials.iloc[[index]].option_1.item() if form == \"hidden\" else \"a\"\n",
    "            option_2 = trials.iloc[[index]].option_2.item() if form == \"hidden\" else \"b\"\n",
    "\n",
    "        # R_i\n",
    "        if option_1_p_mm > option_2_p_mm:\n",
    "            R_i = math.log((option_1_p_mm + epsilon)/(option_2_p_mm + epsilon))\n",
    "        elif option_1_p_mm < option_2_p_mm:\n",
    "            R_i = math.log((option_2_p_mm + epsilon)/(option_1_p_mm + epsilon))\n",
    "        else:\n",
    "            R_i = 1\n",
    "\n",
    "        p_correct = (math.e ** (R_i * beta)) / (math.e ** (R_i * beta) + math.e ** (-1 * R_i * beta))\n",
    "\n",
    "        if task == \"explanation\":\n",
    "            correct_mm = option_1 if option_1_p_mm < option_2_p_mm else option_2\n",
    "        else: correct_mm = option_1 if option_1_p_mm > option_2_p_mm else option_2\n",
    "\n",
    "        p_answer = p_correct if response == correct_mm else (1 - p_correct)\n",
    "        log_p_answer = math.log(p_answer)\n",
    "        log_p_answers.append(log_p_answer)\n",
    "    return log_p_answers\n",
    "\n",
    "def compute_for_trials_fsm_an(trials, task, form, epsilon, beta):\n",
    "    import math\n",
    "    log_p_answers = []\n",
    "    for index in range(0, trials.shape[0]):\n",
    "        option_1_p_mm = trials.iloc[[index]].option_1_p_an.item()\n",
    "        option_2_p_mm = trials.iloc[[index]].option_2_p_an.item()\n",
    "        response = trials.iloc[[index]].response.item()\n",
    "\n",
    "        if task == \"prediction\":\n",
    "            option_1 = int(trials.iloc[[index]].option_1.item())\n",
    "            option_2 = int(trials.iloc[[index]].option_2.item())\n",
    "        if task == \"explanation\":\n",
    "            option_1 = 1\n",
    "            option_2 = 2\n",
    "        if task == \"control\":\n",
    "            option_1 = trials.iloc[[index]].option_1.item() if form == \"hidden\" else \"a\"\n",
    "            option_2 = trials.iloc[[index]].option_2.item() if form == \"hidden\" else \"b\"\n",
    "\n",
    "        # R_i\n",
    "        if option_1_p_mm > option_2_p_mm:\n",
    "            R_i = math.log((option_1_p_mm + epsilon)/(option_2_p_mm + epsilon))\n",
    "        elif option_1_p_mm < option_2_p_mm:\n",
    "            R_i = math.log((option_2_p_mm + epsilon)/(option_1_p_mm + epsilon))\n",
    "        else:\n",
    "            R_i = 1\n",
    "\n",
    "        p_correct = (math.e ** (R_i * beta)) / (math.e ** (R_i * beta) + math.e ** (-1 * R_i * beta))\n",
    "\n",
    "        if task == \"explanation\":\n",
    "            correct_mm = option_1 if option_1_p_mm < option_2_p_mm else option_2\n",
    "        else: correct_mm = option_1 if option_1_p_mm > option_2_p_mm else option_2\n",
    "\n",
    "        p_answer = p_correct if response == correct_mm else (1 - p_correct)\n",
    "        log_p_answer = math.log(p_answer)\n",
    "        log_p_answers.append(log_p_answer)\n",
    "    return log_p_answers"
   ],
   "metadata": {
    "pycharm": {
     "name": "#%%\n"
    },
    "id": "aH0aEUK07oNT"
   }
  },
  {
   "cell_type": "code",
   "execution_count": null,
   "outputs": [
    {
     "name": "stderr",
     "output_type": "stream",
     "text": [
      "/Users/roman/opt/anaconda3/envs/workspace/lib/python3.7/site-packages/ipykernel_launcher.py:18: RuntimeWarning: invalid value encountered in true_divide\n"
     ]
    }
   ],
   "source": [
    "# Add participants' data in a dictionary + compute MM probabilities\n",
    "\n",
    "sample = {} # created empt dict for all data\n",
    "eps = 0.01\n",
    "\n",
    "betas = np.arange(0, 1, 0.01)\n",
    "\n",
    "fsms = {'easy': [{'a': np.array([0, 0, 1, 0]), 'b': np.array([0, 0, 1, 0])},  # state 0\n",
    "                 {'a': np.array([1, 0, 0, 0]), 'b': np.array([1, 0, 0, 0])},  # state 1\n",
    "                 {'a': np.array([0.6, 0, 0, 0.4]), 'b': np.array([0, 0, 1, 0])},  # state 2\n",
    "                 {'a': np.array([0.4, 0.6, 0, 0]), 'b': np.array([0, 0, 0, 1])}  # state 3\n",
    "                 ],\n",
    "        'hard': [{'a': np.array([0, 0, 0, 1]), 'b': np.array([0, 0, 0, 1])},  # state 0\n",
    "                 {'a': np.array([0.4, 0.6, 0, 0]), 'b': np.array([0, 0.6, 0, 0.4])},  # state 1\n",
    "                 {'a': np.array([0, 0, 1, 0]), 'b': np.array([0.4, 0.6, 0, 0])},  # state 2\n",
    "                 {'a': np.array([0.4, 0, 0.6, 0]), 'b': np.array([0, 0, 0.6, 0.4])}  # state 3\n",
    "                 ]}\n",
    "\n",
    "for participant_id in trials_learning.participant_id.unique():\n",
    "    # Import data for one subject\n",
    "    ## get data for a single participant\n",
    "    mm = transitions[transitions['participant_id'] == participant_id] # get metal model as a DataFrame\n",
    "    fsm = participants.study_fsm[participants.participant_id == participant_id].item()\n",
    "    learning = trials_learning[trials_learning.participant_id == participant_id]\n",
    "\n",
    "    # Get Visible and Hidden trials for P, E, and C\n",
    "    if trials_prediction[trials_prediction.participant_id == participant_id].size > 0:\n",
    "        trials_vis = trials_prediction[(trials_prediction.participant_id == participant_id) &\n",
    "                                    (trials_prediction.trial_type == \"visible\")]\n",
    "        trials_hid = trials_prediction[(trials_prediction.participant_id == participant_id) &\n",
    "                                   (trials_prediction.trial_type == \"hidden\")]\n",
    "        task = \"prediction\"\n",
    "\n",
    "    if trials_control[trials_control.participant_id == participant_id].size > 0:\n",
    "        trials_vis = trials_control[(trials_control.participant_id == participant_id) &\n",
    "                                    (trials_control.trial_type == \"visible\")]\n",
    "        trials_hid = trials_control[(trials_control.participant_id == participant_id) &\n",
    "                                   (trials_control.trial_type == \"hidden\")]\n",
    "        task = \"control\"\n",
    "\n",
    "    if trials_explanation[trials_explanation.participant_id == participant_id].size > 0:\n",
    "        trials_vis = trials_explanation[(trials_explanation.participant_id == participant_id) &\n",
    "                                 (trials_explanation.trial_type == \"visible\")]\n",
    "        trials_hid = trials_explanation[(trials_explanation.participant_id == participant_id) &\n",
    "                                (trials_explanation.trial_type == \"hidden\")]\n",
    "        task = \"explanation\"\n",
    "\n",
    "    ## select only informative columns\n",
    "    trials_vis = trials_vis.iloc[:,4:]\n",
    "    trials_hid = trials_hid.iloc[:,4:]\n",
    "\n",
    "    # reformat mental model as dictionary\n",
    "    MM = {}\n",
    "    for state_current in mm.state_current.unique():\n",
    "        inputs = {}\n",
    "        for inp in [\"a\", \"b\"]:\n",
    "            inputs[inp] = np.array([mm.state_next_p[(mm.state_current == state_current) & (mm.response_current == inp) & (mm.state_next == 0)].item(),\n",
    "                             mm.state_next_p[(mm.state_current == state_current) & (mm.response_current == inp) & (mm.state_next == 1)].item(),\n",
    "                             mm.state_next_p[(mm.state_current == state_current) & (mm.response_current == inp) & (mm.state_next == 2)].item(),\n",
    "                             mm.state_next_p[(mm.state_current == state_current) & (mm.response_current == inp) & (mm.state_next == 3)].item()])\n",
    "        MM[state_current] = {\"a\":inputs[\"a\"], \"b\": inputs[\"b\"]}\n",
    "\n",
    "\n",
    "    # Use MM to calculate correct answers\n",
    "    if task == \"prediction\":\n",
    "        # Visible\n",
    "        for index in range(0, trials_vis.shape[0]): # shape[0] = number of rows\n",
    "            state_2 = int(trials_vis.iloc[[index]].state_2.item())\n",
    "            response_2 = trials_vis.iloc[[index]].response_2.item()\n",
    "            option_1 = int(trials_vis.iloc[[index]].option_1.item())\n",
    "            option_2 = int(trials_vis.iloc[[index]].option_2.item())\n",
    "            trials_vis.loc[trials_vis.index[index], 'option_1_p_mm'] = MM[state_2][response_2][option_1]\n",
    "            trials_vis.loc[trials_vis.index[index], 'option_2_p_mm'] = MM[state_2][response_2][option_2]\n",
    "\n",
    "        # Hidden\n",
    "        for index in range(0, trials_hid.shape[0]):\n",
    "            state_1 = int(trials_hid.iloc[[index]].state_1.item())\n",
    "            response_1 = trials_hid.iloc[[index]].response_1.item()\n",
    "            response_2 = trials_hid.iloc[[index]].response_2.item()\n",
    "            option_1 = int(trials_hid.iloc[[index]].option_1.item())\n",
    "            option_2 = int(trials_hid.iloc[[index]].option_2.item())\n",
    "\n",
    "            trials_hid.loc[trials_hid.index[index], 'option_1_p_mm'] = predict_normative(state_1, response_1, response_2, MM)[option_1][0]\n",
    "            trials_hid.loc[trials_hid.index[index], 'option_2_p_mm'] = predict_normative(state_1, response_1, response_2, MM)[option_2][0]\n",
    "\n",
    "            trials_hid.loc[trials_hid.index[index], 'option_1_p_mm_an'] = predict_an(state_1, response_1, response_2, MM)[option_1][0]\n",
    "            trials_hid.loc[trials_hid.index[index], 'option_2_p_mm_an'] = predict_an(state_1, response_1, response_2, MM)[option_2][0]\n",
    "\n",
    "            this_fsm = fsms[fsm]\n",
    "            trials_hid.loc[trials_hid.index[index], 'option_1_p_an'] = predict_an(state_1, response_1, response_2, this_fsm)[option_1][0]\n",
    "            trials_hid.loc[trials_hid.index[index], 'option_2_p_an'] = predict_an(state_1, response_1, response_2, this_fsm)[option_2][0]\n",
    "\n",
    "    if task == \"control\":\n",
    "        # Visible\n",
    "        for index in range(0, trials_vis.shape[0]): # shape[0] = number of rows\n",
    "            state_2 = int(trials_vis.iloc[[index]].state_2.item())\n",
    "            state_3 = int(trials_vis.iloc[[index]].state_3.item())\n",
    "            option_1 = \"a\"\n",
    "            option_2 = \"b\"\n",
    "            trials_vis.loc[trials_vis.index[index], 'option_1_p_mm'] = MM[state_2][option_1][state_3]\n",
    "            trials_vis.loc[trials_vis.index[index], 'option_2_p_mm'] = MM[state_2][option_2][state_3]\n",
    "\n",
    "        # Hidden\n",
    "        for index in range(0, trials_hid.shape[0]):\n",
    "            state_1 = int(trials_hid.iloc[[index]].state_1.item())\n",
    "            state_3 = int(trials_hid.iloc[[index]].state_3.item())\n",
    "            option_1 = trials_hid.iloc[[index]].option_1.item()\n",
    "            option_2 = trials_hid.iloc[[index]].option_2.item()\n",
    "\n",
    "            trials_hid.loc[trials_hid.index[index], 'option_1_p_mm'] = control_normative(state_1, state_3, MM)[option_1]\n",
    "            trials_hid.loc[trials_hid.index[index], 'option_2_p_mm'] = control_normative(state_1, state_3, MM)[option_2]\n",
    "\n",
    "            trials_hid.loc[trials_hid.index[index], 'option_1_p_mm_an'] = control_an(state_1, state_3, MM)[option_1]\n",
    "            trials_hid.loc[trials_hid.index[index], 'option_2_p_mm_an'] = control_an(state_1, state_3, MM)[option_2]\n",
    "\n",
    "            this_fsm = fsms[fsm]\n",
    "            trials_hid.loc[trials_hid.index[index], 'option_1_p'] = control_normative(state_1, state_3, this_fsm)[option_1]\n",
    "            trials_hid.loc[trials_hid.index[index], 'option_2_p'] = control_normative(state_1, state_3, this_fsm)[option_2]\n",
    "            trials_hid.loc[trials_hid.index[index], 'option_1_p_an'] = control_an(state_1, state_3, this_fsm)[option_1]\n",
    "            trials_hid.loc[trials_hid.index[index], 'option_2_p_an'] = control_an(state_1, state_3, this_fsm)[option_2]\n",
    "\n",
    "    if task == \"explanation\":\n",
    "        # Visible\n",
    "        for index in range(0, trials_vis.shape[0]): # shape[0] = number of rows\n",
    "            state_1 = int(trials_vis.iloc[[index]].state_1.item())\n",
    "            response_1 = trials_vis.iloc[[index]].response_1.item()\n",
    "            state_2 = int(trials_vis.iloc[[index]].state_2.item())\n",
    "            response_2 = trials_vis.iloc[[index]].response_2.item()\n",
    "            state_3 = int(trials_vis.iloc[[index]].state_3.item())\n",
    "            response_1_cf = \"a\" if response_1 == \"b\" else \"b\"\n",
    "            response_2_cf = \"a\" if response_2 == \"b\" else \"b\"\n",
    "            trials_vis.loc[trials_vis.index[index], 'option_1_p_mm'] = MM[state_1][response_1_cf][state_2] * MM[state_2][response_2][state_3]\n",
    "            trials_vis.loc[trials_vis.index[index], 'option_2_p_mm'] = MM[state_1][response_1][state_2] * MM[state_2][response_2_cf][state_3]\n",
    "\n",
    "            # Add actual probabilities (based on FSM, not MM)\n",
    "            this_fsm = fsms[fsm]\n",
    "            trials_vis.loc[trials_vis.index[index], 'option_1_p'] = this_fsm[state_1][response_1_cf][state_2] * this_fsm[state_2][response_2][state_3]\n",
    "            trials_vis.loc[trials_vis.index[index], 'option_2_p'] = this_fsm[state_1][response_1][state_2] * this_fsm[state_2][response_2_cf][state_3]\n",
    "\n",
    "\n",
    "        # Hidden\n",
    "        for index in range(0, trials_hid.shape[0]): # shape[0] = number of rows\n",
    "            state_1 = int(trials_hid.iloc[[index]].state_1.item())\n",
    "            response_1 = trials_hid.iloc[[index]].response_1.item()\n",
    "            response_2 = trials_hid.iloc[[index]].response_2.item()\n",
    "            state_3 = int(trials_hid.iloc[[index]].state_3.item())\n",
    "            response_1_cf = \"a\" if response_1 == \"b\" else \"b\"\n",
    "            response_2_cf = \"a\" if response_2 == \"b\" else \"b\"\n",
    "            trials_hid.loc[trials_hid.index[index], 'option_1_p_mm'] = explain_normative(state_1, response_1, response_2, state_3, MM)[\"1\"]\n",
    "            trials_hid.loc[trials_hid.index[index], 'option_2_p_mm'] = explain_normative(state_1, response_1, response_2, state_3, MM)[\"2\"]\n",
    "\n",
    "\n",
    "            trials_hid.loc[trials_hid.index[index], 'option_1_p_mm_an'] = explain_an(state_1, response_1, response_2, state_3, MM)[\"1\"]\n",
    "            trials_hid.loc[trials_hid.index[index], 'option_2_p_mm_an'] = explain_an(state_1, response_1, response_2, state_3, MM)[\"2\"]\n",
    "\n",
    "            this_fsm = fsms[fsm]\n",
    "            trials_hid.loc[trials_hid.index[index], 'option_1_p'] = explain_normative(state_1, response_1, response_2, state_3, this_fsm)[\"1\"]\n",
    "            trials_hid.loc[trials_hid.index[index], 'option_2_p'] = explain_normative(state_1, response_1, response_2, state_3, this_fsm)[\"2\"]\n",
    "            trials_hid.loc[trials_hid.index[index], 'option_1_p_an'] = explain_an(state_1, response_1, response_2, state_3, this_fsm)[\"1\"]\n",
    "            trials_hid.loc[trials_hid.index[index], 'option_2_p_an'] = explain_an(state_1, response_1, response_2, state_3, this_fsm)[\"2\"]\n",
    "\n",
    "    # Add beta values\n",
    "    beta_person = {}\n",
    "    for form in [\"visible\", \"hidden\"]:\n",
    "        log_p_answers = []\n",
    "        if form == \"visible\":\n",
    "            trials = trials_vis\n",
    "        else: trials = trials_hid\n",
    "        all_betas = []\n",
    "        all_betas_an = []\n",
    "        all_betas_fsm = []\n",
    "        all_betas_fsm_an = []\n",
    "        for beta in betas:\n",
    "            log_p_answers = compute_for_trials(trials, task, form, eps, beta)\n",
    "            all_betas.append([round(beta, 2), sum(log_p_answers)])\n",
    "            # the same for current FSM, not MM\n",
    "            log_p_answers_fsm = compute_for_trials_fsm(trials, task, form, eps, beta)\n",
    "            all_betas_fsm.append([round(beta, 2), sum(log_p_answers_fsm)])\n",
    "            if form == \"hidden\":\n",
    "                log_p_answers_an = compute_for_trials_an(trials, task, form, eps, beta)\n",
    "                all_betas_an.append([round(beta, 2), sum(log_p_answers_an)])\n",
    "\n",
    "                # the same for current FSM, not MM\n",
    "                log_p_answers_fsm_an = compute_for_trials_fsm_an(trials, task, form, eps, beta)\n",
    "                all_betas_fsm_an.append([round(beta, 2), sum(log_p_answers_fsm_an)])\n",
    "        beta_person[form + \"_mm\"] = all_betas\n",
    "        beta_person[form + \"_fsm\"] = all_betas_fsm\n",
    "    beta_person[\"hidden_an_mm\"] = all_betas_an\n",
    "    beta_person[\"hidden_an_fsm\"] = all_betas_fsm_an\n",
    "\n",
    "    max_betas = {}\n",
    "\n",
    "    for condition in beta_person.keys():\n",
    "        betas_task = np.array(beta_person[condition])[:,0]\n",
    "        values = np.array(beta_person[condition])[:,1]\n",
    "        max_beta = betas_task[values.argmax()]\n",
    "        R_i = 3\n",
    "        p_correct_r3 = (math.e ** (R_i * max_beta)) / (math.e ** (R_i * max_beta) + math.e ** (-1 * R_i * max_beta))\n",
    "        max_betas[condition] = np.array([max_beta, p_correct_r3])\n",
    "\n",
    "    ## record that data in a dictionary\n",
    "    sample[participant_id] = {\"task\": task,\n",
    "                              \"fsm\": fsm,\n",
    "                              \"learning\": learning,\n",
    "                              \"MM\": MM,\n",
    "                              \"visible\": trials_vis,\n",
    "                              \"hidden\": trials_hid,\n",
    "                              \"visible_beta\": beta_person[\"visible_mm\"],\n",
    "                              \"hidden_beta\": beta_person[\"hidden_mm\"],\n",
    "                              \"visible_beta_fsm\": beta_person[\"visible_fsm\"],\n",
    "                              \"hidden_beta_fsm\": beta_person[\"hidden_fsm\"],\n",
    "                              \"hidden_beta_fsm_an\": beta_person[\"hidden_an_fsm\"],\n",
    "                              \"hidden_beta_an\": beta_person[\"hidden_an_mm\"],\n",
    "                              \"max_betas\": max_betas} # make it list by adding \".values.tolist()\"\n",
    "\n",
    "pickle.dump(sample, open( \"sample.p\", \"wb\" ) )"
   ],
   "metadata": {
    "pycharm": {
     "name": "#%%\n"
    },
    "id": "Tdp93EFd7oNT",
    "outputId": "4ae256b6-151b-40a2-d763-65efb20503f3"
   }
  },
  {
   "cell_type": "code",
   "execution_count": null,
   "outputs": [
    {
     "data": {
      "text/plain": "0.05"
     },
     "execution_count": 81,
     "metadata": {},
     "output_type": "execute_result"
    }
   ],
   "source": [],
   "metadata": {
    "pycharm": {
     "name": "#%%\n"
    },
    "id": "jyJ_Gtsc7oNU",
    "outputId": "a432c859-8255-464d-a5b2-0777baaf0c44"
   }
  },
  {
   "cell_type": "code",
   "execution_count": null,
   "outputs": [
    {
     "data": {
      "text/plain": "0.07"
     },
     "execution_count": 91,
     "metadata": {},
     "output_type": "execute_result"
    }
   ],
   "source": [
    "sample[1][\"max_betas\"][condition][0]\n",
    "sample[1][\"max_betas\"][condition][1]"
   ],
   "metadata": {
    "pycharm": {
     "name": "#%%\n"
    },
    "id": "XiWuHz1p7oNU",
    "outputId": "45dff9cb-52cd-4330-a240-ccc386de9db3"
   }
  },
  {
   "cell_type": "markdown",
   "source": [],
   "metadata": {
    "collapsed": false,
    "pycharm": {
     "name": "#%% md\n"
    },
    "id": "Uo0sWx3i7oNU"
   }
  },
  {
   "cell_type": "markdown",
   "source": [],
   "metadata": {
    "collapsed": false,
    "pycharm": {
     "name": "#%% md\n"
    },
    "id": "-DIS8REJ7oNV"
   }
  },
  {
   "cell_type": "code",
   "execution_count": null,
   "outputs": [],
   "source": [
    "# export Expected Accuracy results for participants\n",
    "results = pd.DataFrame(columns=['participant_id','fsm','task','condition','beta_max', 'p_correct_r3'])\n",
    "this_row = {}\n",
    "for participant_id in sample.keys():\n",
    "    results_participant = pd.DataFrame(columns=['participant_id','fsm','task','condition','beta_max', 'p_correct_r3'])\n",
    "    fsm = sample[participant_id][\"fsm\"]\n",
    "    task = sample[participant_id][\"task\"]\n",
    "    for condition in sample[participant_id][\"max_betas\"].keys():\n",
    "        betas = sample[participant_id][\"max_betas\"][condition]\n",
    "        this_row = {\"participant_id\": participant_id,\n",
    "                    \"fsm\": fsm,\n",
    "                    \"task\":task,\n",
    "                    'condition':condition,\n",
    "                    \"beta_max\": betas[0],\n",
    "                    \"p_correct_r3\": betas[1]}\n",
    "        results_participant = results_participant.append(this_row, ignore_index = True)\n",
    "    results = results.append(results_participant, ignore_index = True)\n",
    "\n",
    "filepath = \"../outputs/results_expected_accuracy.csv\"\n",
    "results.to_csv(filepath, index = False)"
   ],
   "metadata": {
    "pycharm": {
     "name": "#%%\n"
    },
    "id": "1ML1dPhh7oNV"
   }
  },
  {
   "cell_type": "code",
   "execution_count": null,
   "outputs": [],
   "source": [
    "results = pd.DataFrame(columns=['condition', 'fsm', 'task', 'beta', 'sum_log_p'])\n",
    "this_row = {}\n",
    "for task in [\"prediction\", \"explanation\", \"control\"]:\n",
    "    for fsm in [\"easy\", \"hard\"]:\n",
    "        for condition in [\"visible_beta\", \"hidden_beta\", \"hidden_beta_an\"]:\n",
    "            running=np.array(sample[2][\"hidden_beta_an\"])\n",
    "            running[:,1] *= 0\n",
    "            counter = 0\n",
    "            for i in sample.keys():\n",
    "                if sample[i][\"task\"] == task and sample[i][\"fsm\"] == fsm:\n",
    "                    counter += 1\n",
    "                    running[:,1] += np.array(sample[i][condition])[:,1]\n",
    "            for r in running:\n",
    "                this_row = {'condition':condition, \"fsm\": fsm, \"task\":task, \"beta\": r[0], \"sum_log_p\": r[1], \"count\": counter}\n",
    "                results = results.append(this_row, ignore_index = True)\n",
    "\n",
    "filepath = \"../outputs/results_mm_running.csv\"\n",
    "results.to_csv(filepath, index = False)"
   ],
   "metadata": {
    "pycharm": {
     "name": "#%%\n"
    },
    "id": "8L1EG2Cw7oNV"
   }
  },
  {
   "cell_type": "code",
   "execution_count": null,
   "outputs": [],
   "source": [
    "results = pd.DataFrame(columns=['participant_id','condition', 'fsm', 'task', 'beta', 'sum_log_p'])\n",
    "this_row = {}\n",
    "for participant_id in sample.keys():\n",
    "    results_participant = pd.DataFrame(columns=['participant_id','condition', 'fsm', 'task', 'beta', 'sum_log_p'])\n",
    "    fsm = sample[participant_id][\"fsm\"]\n",
    "    task = sample[participant_id][\"task\"]\n",
    "    for condition in [\"visible_beta\", \"hidden_beta\", \"hidden_beta_an\", \"visible_beta_fsm\", \"hidden_beta_fsm\", \"hidden_beta_fsm_an\"]:\n",
    "        betas = sample[participant_id][condition]\n",
    "        for row in betas:\n",
    "            this_row = {\"participant_id\": participant_id, 'condition':condition, \"fsm\": fsm, \"task\":task, \"beta\": row[0], \"sum_log_p\": row[1]}\n",
    "            results_participant = results_participant.append(this_row, ignore_index = True)\n",
    "    results = results.append(results_participant, ignore_index = True)\n",
    "\n",
    "filepath = \"../outputs/results_mm_participants.csv\"\n",
    "results.to_csv(filepath, index = False)"
   ],
   "metadata": {
    "pycharm": {
     "name": "#%%\n"
    },
    "id": "e_SHDaLs7oNV"
   }
  },
  {
   "cell_type": "code",
   "execution_count": null,
   "outputs": [],
   "source": [
    "sample[2]"
   ],
   "metadata": {
    "pycharm": {
     "name": "#%%\n"
    },
    "id": "vULXsyIx7oNV"
   }
  },
  {
   "cell_type": "code",
   "execution_count": null,
   "outputs": [],
   "source": [
    "running=np.array(sample[2][\"hidden_beta_an\"])\n",
    "running[:,1] *= 0"
   ],
   "metadata": {
    "pycharm": {
     "name": "#%%\n"
    },
    "id": "dlebfOEy7oNV"
   }
  },
  {
   "cell_type": "code",
   "execution_count": null,
   "outputs": [],
   "source": [
    "betas = sample[participant_id][condition]\n",
    "fsm = sample[participant_id][\"fsm\"]\n",
    "task = sample[participant_id][\"task\"]\n",
    "results_participant = pd.DataFrame(columns=['participant_id','condition', 'fsm', 'task', 'beta', 'sum_log_p'])\n",
    "this_row = {\"participant_id\": participant_id, 'condition':condition, \"fsm\": fsm, \"task\":task, \"beta\": row[0], \"sum_log_p\": row[1]}\n",
    "results_participant = results.append(this_row, ignore_index = True)"
   ],
   "metadata": {
    "pycharm": {
     "name": "#%%\n"
    },
    "id": "rx1TrW4u7oNV"
   }
  },
  {
   "cell_type": "code",
   "execution_count": null,
   "outputs": [],
   "source": [
    "results_participant = pd.DataFrame(columns=['participant_id','condition', 'fsm', 'task', 'beta', 'sum_log_p'])\n",
    "betas = sample[participant_id][condition]\n",
    "fsm = sample[participant_id][\"fsm\"]\n",
    "task = sample[participant_id][\"task\"]\n",
    "for row in betas:\n",
    "    this_row = {\"participant_id\": participant_id, 'condition':condition, \"fsm\": fsm, \"task\":task, \"beta\": row[0], \"sum_log_p\": row[1]}\n",
    "    results_participant = results_participant.append(this_row, ignore_index = True)"
   ],
   "metadata": {
    "pycharm": {
     "name": "#%%\n"
    },
    "id": "tM9I8ahD7oNW"
   }
  },
  {
   "cell_type": "code",
   "execution_count": null,
   "outputs": [],
   "source": [
    "results_participant"
   ],
   "metadata": {
    "pycharm": {
     "name": "#%%\n"
    },
    "id": "QV3YtrXV7oNW"
   }
  },
  {
   "cell_type": "code",
   "execution_count": null,
   "outputs": [],
   "source": [],
   "metadata": {
    "pycharm": {
     "name": "#%%\n"
    },
    "id": "X9HuUeO-7oNW"
   }
  }
 ],
 "metadata": {
  "kernelspec": {
   "display_name": "Python 3",
   "language": "python",
   "name": "python3"
  },
  "language_info": {
   "codemirror_mode": {
    "name": "ipython",
    "version": 2
   },
   "file_extension": ".py",
   "mimetype": "text/x-python",
   "name": "python",
   "nbconvert_exporter": "python",
   "pygments_lexer": "ipython2",
   "version": "2.7.6"
  },
  "colab": {
   "provenance": []
  }
 },
 "nbformat": 4,
 "nbformat_minor": 0
}